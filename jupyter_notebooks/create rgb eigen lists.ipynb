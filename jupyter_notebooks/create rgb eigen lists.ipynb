{
 "cells": [
  {
   "cell_type": "code",
   "execution_count": 6,
   "metadata": {
    "collapsed": false
   },
   "outputs": [],
   "source": [
    "hpc4 = '/media/hpc4_Raid/dsungatullina/submission/vkitti-kitti/'\n",
    "not_hpc4 = '/media/hpc-4_Raid/dsungatullina/submission/vkitti-kitti/'"
   ]
  },
  {
   "cell_type": "code",
   "execution_count": 14,
   "metadata": {
    "collapsed": false
   },
   "outputs": [],
   "source": [
    "f = open('/media/hpc-4_Raid/dsungatullina/submission/vkitti-kitti/kitti/kitti_rgb/_eigen_rgb_train.txt')\n",
    "f_w = open('/media/hpc-4_Raid/dsungatullina/submission/vkitti-kitti/kitti/kitti_rgb/eigen_rgb_train.txt', 'w')\n",
    "\n",
    "for line in f:\n",
    "    filename = not_hpc4 + '/'.join(line.split('/')[-7:])\n",
    "    f_w.write(filename)\n",
    "\n",
    "f.close()\n",
    "f_w.close()"
   ]
  }
 ],
 "metadata": {
  "kernelspec": {
   "display_name": "Python 2",
   "language": "python",
   "name": "python2"
  },
  "language_info": {
   "codemirror_mode": {
    "name": "ipython",
    "version": 2
   },
   "file_extension": ".py",
   "mimetype": "text/x-python",
   "name": "python",
   "nbconvert_exporter": "python",
   "pygments_lexer": "ipython2",
   "version": "2.7.6"
  }
 },
 "nbformat": 4,
 "nbformat_minor": 1
}
