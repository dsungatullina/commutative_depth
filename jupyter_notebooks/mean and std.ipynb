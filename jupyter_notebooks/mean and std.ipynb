{
 "cells": [
  {
   "cell_type": "code",
   "execution_count": 1,
   "metadata": {
    "collapsed": true
   },
   "outputs": [],
   "source": [
    "import os\n",
    "import glob\n",
    "import cv2\n",
    "import numpy as np\n",
    "import matplotlib.pyplot as plt\n",
    "\n",
    "from PIL import Image\n",
    "from scipy.ndimage.morphology import grey_closing"
   ]
  },
  {
   "cell_type": "markdown",
   "metadata": {},
   "source": [
    "### SYNTHIA RGB"
   ]
  },
  {
   "cell_type": "code",
   "execution_count": 5,
   "metadata": {
    "collapsed": false
   },
   "outputs": [
    {
     "name": "stdout",
     "output_type": "stream",
     "text": [
      "8000\n"
     ]
    }
   ],
   "source": [
    "filenames = glob.glob('/media/hpc4_Raid/data/SYNTHIA/RAND_CITYSCAPES/RGB/train/*.png')\n",
    "filenames.sort()\n",
    "print(len(filenames))"
   ]
  },
  {
   "cell_type": "code",
   "execution_count": 3,
   "metadata": {
    "collapsed": true
   },
   "outputs": [],
   "source": [
    "mean_sum_r = 0.0\n",
    "mean_sum_g = 0.0\n",
    "mean_sum_b = 0.0\n",
    "\n",
    "for i in range(len(filenames)):\n",
    "    \n",
    "    img = Image.open(filenames[i]).convert('RGB')\n",
    "    img = np.array(img)\n",
    "    \n",
    "    img_1d_r = np.reshape(img[:,:,0], -1)\n",
    "    img_1d_g = np.reshape(img[:,:,1], -1)\n",
    "    img_1d_b = np.reshape(img[:,:,2], -1)\n",
    "    \n",
    "    mean_r = np.mean(img_1d_r)\n",
    "    mean_g = np.mean(img_1d_g)\n",
    "    mean_b = np.mean(img_1d_b)\n",
    "\n",
    "    mean_sum_r = mean_sum_r + mean_r\n",
    "    mean_sum_g = mean_sum_g + mean_g\n",
    "    mean_sum_b = mean_sum_b + mean_b"
   ]
  },
  {
   "cell_type": "code",
   "execution_count": 4,
   "metadata": {
    "collapsed": false
   },
   "outputs": [
    {
     "name": "stdout",
     "output_type": "stream",
     "text": [
      "(81.41540869461858, 71.5907729090001, 64.15859488769543)\n"
     ]
    }
   ],
   "source": [
    "print(mean_sum_r/8000.0, mean_sum_g/8000.0, mean_sum_b/8000.0)"
   ]
  },
  {
   "cell_type": "markdown",
   "metadata": {},
   "source": [
    "### SYNTHIA Depth"
   ]
  },
  {
   "cell_type": "code",
   "execution_count": 5,
   "metadata": {
    "collapsed": false
   },
   "outputs": [
    {
     "name": "stdout",
     "output_type": "stream",
     "text": [
      "8000\n"
     ]
    }
   ],
   "source": [
    "filenames = glob.glob('/media/hpc-4_Raid/data/SYNTHIA/RAND_CITYSCAPES/Depth/train/*.png')\n",
    "filenames.sort()\n",
    "print(len(filenames))"
   ]
  },
  {
   "cell_type": "code",
   "execution_count": 6,
   "metadata": {
    "collapsed": false
   },
   "outputs": [
    {
     "name": "stdout",
     "output_type": "stream",
     "text": [
      "0.10016881240174276\n"
     ]
    }
   ],
   "source": [
    "mean_sum = 0.0\n",
    "\n",
    "for i in range(len(filenames)):\n",
    "    \n",
    "    img = cv2.imread(filenames[i], cv2.IMREAD_UNCHANGED)\n",
    "    img = img[:, :, 0] / 100.0\n",
    "    img[img > 473.57] = 473.57\n",
    "    img = img / 473.57\n",
    "    \n",
    "    img_1d = np.reshape(img[:, :], -1)\n",
    "    \n",
    "    mean = np.mean(img_1d)\n",
    "\n",
    "    mean_sum = mean_sum + mean\n",
    "    \n",
    "mean = mean_sum/float(len(filenames))\n",
    "print(mean)"
   ]
  },
  {
   "cell_type": "code",
   "execution_count": 7,
   "metadata": {
    "collapsed": false
   },
   "outputs": [
    {
     "name": "stdout",
     "output_type": "stream",
     "text": [
      "0.2461670485117685\n"
     ]
    }
   ],
   "source": [
    "ssd = 0.0\n",
    "\n",
    "# mean = 59.63029240529034\n",
    "\n",
    "for i in range(len(filenames)):\n",
    "    \n",
    "    img = cv2.imread(filenames[i], cv2.IMREAD_UNCHANGED)\n",
    "    img = img[:, :, 0] / 100.0\n",
    "    img[img > 473.57] = 473.57\n",
    "    img = img / 473.57\n",
    "\n",
    "    img_1d = np.reshape(img[:, :], -1)\n",
    "    \n",
    "    img_1d = img_1d - mean\n",
    "    \n",
    "    ssd = ssd + np.sum(img_1d**2)\n",
    "    \n",
    "std = np.sqrt(ssd / float(len(filenames)*img.shape[0]*img.shape[1] - 1))\n",
    "print(std)    "
   ]
  },
  {
   "cell_type": "code",
   "execution_count": null,
   "metadata": {
    "collapsed": true
   },
   "outputs": [],
   "source": []
  },
  {
   "cell_type": "code",
   "execution_count": null,
   "metadata": {
    "collapsed": true
   },
   "outputs": [],
   "source": []
  },
  {
   "cell_type": "code",
   "execution_count": null,
   "metadata": {
    "collapsed": true
   },
   "outputs": [],
   "source": []
  },
  {
   "cell_type": "code",
   "execution_count": null,
   "metadata": {
    "collapsed": true
   },
   "outputs": [],
   "source": []
  },
  {
   "cell_type": "code",
   "execution_count": null,
   "metadata": {
    "collapsed": true
   },
   "outputs": [],
   "source": []
  },
  {
   "cell_type": "code",
   "execution_count": null,
   "metadata": {
    "collapsed": true
   },
   "outputs": [],
   "source": []
  },
  {
   "cell_type": "code",
   "execution_count": 8,
   "metadata": {
    "collapsed": false
   },
   "outputs": [
    {
     "data": {
      "text/plain": [
       "8000"
      ]
     },
     "execution_count": 8,
     "metadata": {},
     "output_type": "execute_result"
    }
   ],
   "source": [
    "len(filenames)"
   ]
  },
  {
   "cell_type": "code",
   "execution_count": 88,
   "metadata": {
    "collapsed": false
   },
   "outputs": [
    {
     "data": {
      "image/png": "[encoded data removed]",
      "text/plain": [
       "<matplotlib.figure.Figure at 0x7fac93639e10>"
      ]
     },
     "metadata": {},
     "output_type": "display_data"
    }
   ],
   "source": [
    "im = cv2.imread(filenames[888], cv2.IMREAD_UNCHANGED)\n",
    "im  = im / 100.0\n",
    "# calculate mean value from RGB channels and flatten to 1D array\n",
    "vals = im.mean(axis=2).flatten()\n",
    "# plot histogram with 255 bins\n",
    "b, bins, patches = plt.hist(vals, 656)\n",
    "plt.xlim([0,656])\n",
    "plt.show()"
   ]
  },
  {
   "cell_type": "code",
   "execution_count": 89,
   "metadata": {
    "collapsed": true
   },
   "outputs": [],
   "source": [
    "im[im > 255] = 255"
   ]
  },
  {
   "cell_type": "code",
   "execution_count": 90,
   "metadata": {
    "collapsed": false
   },
   "outputs": [
    {
     "data": {
      "image/png": "[encoded data removed]",
      "text/plain": [
       "<matplotlib.figure.Figure at 0x7fac95932d90>"
      ]
     },
     "metadata": {},
     "output_type": "display_data"
    }
   ],
   "source": [
    "plt.imshow(im > 150)\n",
    "plt.show()"
   ]
  },
  {
   "cell_type": "code",
   "execution_count": 91,
   "metadata": {
    "collapsed": false
   },
   "outputs": [
    {
     "data": {
      "image/png": "[encoded data removed]",
      "text/plain": [
       "<matplotlib.figure.Figure at 0x7fac93ce9390>"
      ]
     },
     "metadata": {},
     "output_type": "display_data"
    }
   ],
   "source": [
    "plt.imshow(im/im.max())\n",
    "plt.show()"
   ]
  },
  {
   "cell_type": "code",
   "execution_count": 13,
   "metadata": {
    "collapsed": false
   },
   "outputs": [
    {
     "data": {
      "text/plain": [
       "220"
      ]
     },
     "execution_count": 13,
     "metadata": {},
     "output_type": "execute_result"
    }
   ],
   "source": [
    "161 + 59"
   ]
  },
  {
   "cell_type": "markdown",
   "metadata": {},
   "source": [
    "### SYNTHIA Depth max element"
   ]
  },
  {
   "cell_type": "code",
   "execution_count": 42,
   "metadata": {
    "collapsed": false
   },
   "outputs": [
    {
     "name": "stdout",
     "output_type": "stream",
     "text": [
      "8000\n"
     ]
    }
   ],
   "source": [
    "filenames = glob.glob('/media/hpc4_Raid/data/SYNTHIA/RAND_CITYSCAPES/Depth/train/*.png')\n",
    "filenames.sort()\n",
    "print(len(filenames))"
   ]
  },
  {
   "cell_type": "code",
   "execution_count": 43,
   "metadata": {
    "collapsed": false
   },
   "outputs": [
    {
     "name": "stdout",
     "output_type": "stream",
     "text": [
      "655.35\n"
     ]
    }
   ],
   "source": [
    "max_el = -1.0\n",
    "\n",
    "for i in range(len(filenames)):\n",
    "    \n",
    "    img = cv2.imread(filenames[i], cv2.IMREAD_UNCHANGED)\n",
    "    img = img[:, :, 0] / 100.0\n",
    "    \n",
    "    tmp = np.amax(img)\n",
    "    \n",
    "    if tmp > max_el:\n",
    "        max_el = tmp\n",
    "    \n",
    "print(max_el)    "
   ]
  },
  {
   "cell_type": "code",
   "execution_count": 44,
   "metadata": {
    "collapsed": false
   },
   "outputs": [
    {
     "name": "stdout",
     "output_type": "stream",
     "text": [
      "2.11\n"
     ]
    }
   ],
   "source": [
    "min_el = 65536\n",
    "\n",
    "for i in range(len(filenames)):\n",
    "    \n",
    "    img = cv2.imread(filenames[i], cv2.IMREAD_UNCHANGED)\n",
    "    img = img[:, :, 0] / 100.0\n",
    "    \n",
    "    tmp = np.min(img)\n",
    "    \n",
    "    if tmp < min_el:\n",
    "        mix_el = tmp\n",
    "    \n",
    "print(mix_el)    "
   ]
  },
  {
   "cell_type": "code",
   "execution_count": null,
   "metadata": {
    "collapsed": true
   },
   "outputs": [],
   "source": []
  },
  {
   "cell_type": "markdown",
   "metadata": {},
   "source": [
    "### SYNTHIA Depth mean and std for [0,1]"
   ]
  },
  {
   "cell_type": "code",
   "execution_count": 46,
   "metadata": {
    "collapsed": false
   },
   "outputs": [
    {
     "name": "stdout",
     "output_type": "stream",
     "text": [
      "0.09098860535475199\n"
     ]
    }
   ],
   "source": [
    "mean_sum = 0.0\n",
    "\n",
    "for i in range(len(filenames)):\n",
    "    \n",
    "    img = cv2.imread(filenames[i], cv2.IMREAD_UNCHANGED)\n",
    "    img = img[:, :, 0] / 65536.0\n",
    "    \n",
    "    img_1d = np.reshape(img[:, :], -1)\n",
    "    \n",
    "    mean = np.mean(img_1d)\n",
    "\n",
    "    mean_sum = mean_sum + mean\n",
    "    \n",
    "print(mean_sum/len(filenames))"
   ]
  },
  {
   "cell_type": "code",
   "execution_count": 47,
   "metadata": {
    "collapsed": false
   },
   "outputs": [
    {
     "name": "stdout",
     "output_type": "stream",
     "text": [
      "0.06065208186734597\n"
     ]
    }
   ],
   "source": [
    "ssd = 0.0\n",
    "\n",
    "for i in range(len(filenames)):\n",
    "    \n",
    "    img = cv2.imread(filenames[i], cv2.IMREAD_UNCHANGED)\n",
    "    img = img[:, :, 0] / 65536.0\n",
    "    \n",
    "    img_1d = np.reshape(img[:, :], -1)\n",
    "    \n",
    "    img_1d = img_1d - 0.09098860535475199\n",
    "    \n",
    "    ssd = ssd + np.sum(img_1d**2)\n",
    "    \n",
    "print(np.sqrt(ssd/(len(filenames)*img.shape[0]*img.shape[1] - 1))    "
   ]
  },
  {
   "cell_type": "code",
   "execution_count": 55,
   "metadata": {
    "collapsed": false
   },
   "outputs": [
    {
     "data": {
      "text/plain": [
       "1.0"
      ]
     },
     "execution_count": 55,
     "metadata": {},
     "output_type": "execute_result"
    }
   ],
   "source": [
    "(1.0 - 0.5) / 0.5"
   ]
  },
  {
   "cell_type": "code",
   "execution_count": 60,
   "metadata": {
    "collapsed": false
   },
   "outputs": [
    {
     "name": "stdout",
     "output_type": "stream",
     "text": [
      "0.2462764338450546\n"
     ]
    }
   ],
   "source": [
    "ssd = 0.0\n",
    "\n",
    "tmp1 = 0.0\n",
    "\n",
    "for i in range(len(filenames)):\n",
    "    \n",
    "    img = cv2.imread(filenames[i], cv2.IMREAD_UNCHANGED)\n",
    "    img = img[:, :, 0] / 65536.0\n",
    "    \n",
    "    img_1d = np.reshape(img[:, :], -1)\n",
    "    \n",
    "    tmp1 = tmp1 + np.sum(img_1d**2)\n",
    "    \n",
    "print(np.sqrt((tmp1/(len(filenames)*img.shape[0]*img.shape[1]) -  0.09098860535475199*0.09098860535475199)*1.00000000013))    "
   ]
  },
  {
   "cell_type": "code",
   "execution_count": 57,
   "metadata": {
    "collapsed": false
   },
   "outputs": [
    {
     "name": "stdout",
     "output_type": "stream",
     "text": [
      "7782400000\n"
     ]
    }
   ],
   "source": [
    "n = len(filenames)*img.shape[0]*img.shape[1]\n",
    "print(n)"
   ]
  },
  {
   "cell_type": "code",
   "execution_count": 59,
   "metadata": {
    "collapsed": false
   },
   "outputs": [
    {
     "name": "stdout",
     "output_type": "stream",
     "text": [
      "1.00000000013\n"
     ]
    }
   ],
   "source": [
    "n_n1 = 7782400000 / (7782400000 - 1.0)\n",
    "print(n_n1)"
   ]
  },
  {
   "cell_type": "markdown",
   "metadata": {},
   "source": [
    "#### Clamp"
   ]
  },
  {
   "cell_type": "code",
   "execution_count": 72,
   "metadata": {
    "collapsed": false
   },
   "outputs": [
    {
     "name": "stdout",
     "output_type": "stream",
     "text": [
      "8000\n"
     ]
    }
   ],
   "source": [
    "filenames = glob.glob('/media/hpc4_Raid/data/SYNTHIA/RAND_CITYSCAPES/Depth/train/*.png')\n",
    "filenames.sort()\n",
    "print(len(filenames))"
   ]
  },
  {
   "cell_type": "code",
   "execution_count": 74,
   "metadata": {
    "collapsed": false
   },
   "outputs": [
    {
     "name": "stdout",
     "output_type": "stream",
     "text": [
      "47.437270769226934\n"
     ]
    }
   ],
   "source": [
    "mean_sum = 0.0\n",
    "\n",
    "for i in range(len(filenames)):\n",
    "    \n",
    "    img = cv2.imread(filenames[i], cv2.IMREAD_UNCHANGED)\n",
    "    img = img[:, :, 0] / 100.0\n",
    "    img[img > 473.5748596191406] = 473.5748596191406\n",
    "    \n",
    "    img_1d = np.reshape(img[:, :], -1)\n",
    "    \n",
    "    mean = np.mean(img_1d)\n",
    "\n",
    "    mean_sum = mean_sum + mean\n",
    "    \n",
    "print(mean_sum/len(filenames))"
   ]
  },
  {
   "cell_type": "code",
   "execution_count": 75,
   "metadata": {
    "collapsed": false
   },
   "outputs": [
    {
     "name": "stdout",
     "output_type": "stream",
     "text": [
      "0.1001684734856429\n"
     ]
    }
   ],
   "source": [
    "mean_sum = 0.0\n",
    "\n",
    "for i in range(len(filenames)):\n",
    "    \n",
    "    img = cv2.imread(filenames[i], cv2.IMREAD_UNCHANGED)\n",
    "    img = img[:, :, 0] / 100.0\n",
    "    img[img > 473.5748596191406] = 473.5748596191406\n",
    "    img = img / 473.5748596191406\n",
    "    \n",
    "    img_1d = np.reshape(img[:, :], -1)\n",
    "    \n",
    "    mean = np.mean(img_1d)\n",
    "\n",
    "    mean_sum = mean_sum + mean\n",
    "    \n",
    "print(mean_sum/len(filenames))"
   ]
  },
  {
   "cell_type": "code",
   "execution_count": 76,
   "metadata": {
    "collapsed": false
   },
   "outputs": [
    {
     "ename": "SyntaxError",
     "evalue": "invalid syntax (<ipython-input-76-a4c397f7bd63>, line 15)",
     "output_type": "error",
     "traceback": [
      "\u001b[0;36m  File \u001b[0;32m\"<ipython-input-76-a4c397f7bd63>\"\u001b[0;36m, line \u001b[0;32m15\u001b[0m\n\u001b[0;31m    print(np.sqrt(ssd/(len(filenames)*img.shape[0]*img.shape[1] - 1))\u001b[0m\n\u001b[0m                                                                         ^\u001b[0m\n\u001b[0;31mSyntaxError\u001b[0m\u001b[0;31m:\u001b[0m invalid syntax\n"
     ]
    }
   ],
   "source": [
    "ssd = 0.0\n",
    "\n",
    "for i in range(len(filenames)):\n",
    "    \n",
    "    img = cv2.imread(filenames[i], cv2.IMREAD_UNCHANGED)\n",
    "    img = img[:, :, 0] / 100.0\n",
    "    img[img > 473.5748596191406] = 473.5748596191406\n",
    "    \n",
    "    img_1d = np.reshape(img[:, :], -1)\n",
    "    \n",
    "    img_1d = img_1d - 47.437270769226934\n",
    "    \n",
    "    ssd = ssd + np.sum(img_1d**2)\n",
    "    \n",
    "print(np.sqrt(ssd/(len(filenames)*img.shape[0]*img.shape[1] - 1)))    "
   ]
  },
  {
   "cell_type": "code",
   "execution_count": 77,
   "metadata": {
    "collapsed": false
   },
   "outputs": [
    {
     "name": "stdout",
     "output_type": "stream",
     "text": [
      "0.045495721101100985\n"
     ]
    }
   ],
   "source": [
    "print(np.sqrt(ssd/(len(filenames)*img.shape[0]*img.shape[1] - 1))) "
   ]
  },
  {
   "cell_type": "code",
   "execution_count": 79,
   "metadata": {
    "collapsed": false
   },
   "outputs": [
    {
     "name": "stdout",
     "output_type": "stream",
     "text": [
      "0.24616704090188363\n"
     ]
    }
   ],
   "source": [
    "ssd = 0.0\n",
    "\n",
    "for i in range(len(filenames)):\n",
    "    \n",
    "    img = cv2.imread(filenames[i], cv2.IMREAD_UNCHANGED)\n",
    "    img = img[:, :, 0] / 100.0\n",
    "    img[img > 473.5748596191406] = 473.5748596191406\n",
    "    img = img / 473.5748596191406\n",
    "    \n",
    "    img_1d = np.reshape(img[:, :], -1)\n",
    "    \n",
    "    img_1d = img_1d - 0.1001684734856429\n",
    "    \n",
    "    ssd = ssd + np.sum(img_1d**2)\n",
    "    \n",
    "print(np.sqrt(ssd/(len(filenames)*img.shape[0]*img.shape[1] - 1)))   "
   ]
  },
  {
   "cell_type": "code",
   "execution_count": null,
   "metadata": {
    "collapsed": true
   },
   "outputs": [],
   "source": []
  },
  {
   "cell_type": "markdown",
   "metadata": {},
   "source": [
    "### Cityscapes RGB"
   ]
  },
  {
   "cell_type": "markdown",
   "metadata": {},
   "source": [
    "### Cityscapes Depth"
   ]
  },
  {
   "cell_type": "code",
   "execution_count": 64,
   "metadata": {
    "collapsed": false
   },
   "outputs": [],
   "source": [
    "f = open('/media/hpc-4_Raid/dsungatullina/transfer-to-zhores/_lists_1024/cityscapes_depth_train.txt')"
   ]
  },
  {
   "cell_type": "code",
   "execution_count": 65,
   "metadata": {
    "collapsed": true
   },
   "outputs": [],
   "source": [
    "max_el = -1.0\n",
    "\n",
    "for line in f:\n",
    "    depth = cv2.imread(line[:-1], cv2.IMREAD_UNCHANGED)\n",
    "    tmp = np.amax(depth)\n",
    "    \n",
    "    if tmp > max_el:\n",
    "        max_el = tmp"
   ]
  },
  {
   "cell_type": "code",
   "execution_count": 66,
   "metadata": {
    "collapsed": false
   },
   "outputs": [
    {
     "data": {
      "text/plain": [
       "473.5748596191406"
      ]
     },
     "execution_count": 66,
     "metadata": {},
     "output_type": "execute_result"
    }
   ],
   "source": [
    "depth.max()"
   ]
  },
  {
   "cell_type": "code",
   "execution_count": 67,
   "metadata": {
    "collapsed": false
   },
   "outputs": [
    {
     "data": {
      "text/plain": [
       "(512, 1024)"
      ]
     },
     "execution_count": 67,
     "metadata": {},
     "output_type": "execute_result"
    }
   ],
   "source": [
    "depth.shape"
   ]
  },
  {
   "cell_type": "code",
   "execution_count": 68,
   "metadata": {
    "collapsed": true
   },
   "outputs": [],
   "source": [
    "tmp = np.zeros((depth.shape[0], depth.shape[1], 3))\n",
    "tmp[:, :, 0] = np.copy(depth)\n",
    "tmp[:, :, 1] = np.copy(depth)\n",
    "tmp[:, :, 2] = np.copy(depth)"
   ]
  },
  {
   "cell_type": "code",
   "execution_count": 70,
   "metadata": {
    "collapsed": false
   },
   "outputs": [
    {
     "data": {
      "image/png": "[encoded data removed]",
      "text/plain": [
       "<matplotlib.figure.Figure at 0x7fac9395da90>"
      ]
     },
     "metadata": {},
     "output_type": "display_data"
    }
   ],
   "source": [
    "# im = cv2.imread(filenames[1001], cv2.IMREAD_UNCHANGED)\n",
    "# calculate mean value from RGB channels and flatten to 1D array\n",
    "vals = tmp.mean(axis=2).flatten()\n",
    "# plot histogram with 255 bins\n",
    "b, bins, patches = plt.hist(vals, 474)\n",
    "plt.xlim([0,474])\n",
    "plt.show()"
   ]
  },
  {
   "cell_type": "code",
   "execution_count": 83,
   "metadata": {
    "collapsed": false
   },
   "outputs": [
    {
     "data": {
      "image/png": "[encoded data removed]",
      "text/plain": [
       "<matplotlib.figure.Figure at 0x7fac936302d0>"
      ]
     },
     "metadata": {},
     "output_type": "display_data"
    }
   ],
   "source": [
    "plt.imshow(tmp > 100)\n",
    "plt.show()"
   ]
  },
  {
   "cell_type": "code",
   "execution_count": 73,
   "metadata": {
    "collapsed": false
   },
   "outputs": [
    {
     "ename": "AttributeError",
     "evalue": "'numpy.ndarray' object has no attribute 'clamp'",
     "output_type": "error",
     "traceback": [
      "\u001b[0;31m---------------------------------------------------------------------------\u001b[0m",
      "\u001b[0;31mAttributeError\u001b[0m                            Traceback (most recent call last)",
      "\u001b[0;32m<ipython-input-73-6dcd511164f0>\u001b[0m in \u001b[0;36m<module>\u001b[0;34m()\u001b[0m\n\u001b[0;32m----> 1\u001b[0;31m \u001b[0mtmp2\u001b[0m \u001b[0;34m=\u001b[0m \u001b[0mtmp\u001b[0m\u001b[0;34m.\u001b[0m\u001b[0mclamp\u001b[0m\u001b[0;34m(\u001b[0m\u001b[0;36m0\u001b[0m\u001b[0;34m,\u001b[0m\u001b[0;36m255\u001b[0m\u001b[0;34m)\u001b[0m\u001b[0;34m\u001b[0m\u001b[0m\n\u001b[0m",
      "\u001b[0;31mAttributeError\u001b[0m: 'numpy.ndarray' object has no attribute 'clamp'"
     ]
    }
   ],
   "source": [
    "tmp2 = tmp.clamp(0,255)"
   ]
  },
  {
   "cell_type": "code",
   "execution_count": 76,
   "metadata": {
    "collapsed": false
   },
   "outputs": [
    {
     "data": {
      "text/plain": [
       "array([[[0., 0., 0.],\n",
       "        [0., 0., 0.],\n",
       "        [0., 0., 0.],\n",
       "        ...,\n",
       "        [0., 0., 0.],\n",
       "        [0., 0., 0.],\n",
       "        [0., 0., 0.]],\n",
       "\n",
       "       [[0., 0., 0.],\n",
       "        [0., 0., 0.],\n",
       "        [0., 0., 0.],\n",
       "        ...,\n",
       "        [0., 0., 0.],\n",
       "        [0., 0., 0.],\n",
       "        [0., 0., 0.]],\n",
       "\n",
       "       [[0., 0., 0.],\n",
       "        [0., 0., 0.],\n",
       "        [0., 0., 0.],\n",
       "        ...,\n",
       "        [0., 0., 0.],\n",
       "        [0., 0., 0.],\n",
       "        [0., 0., 0.]],\n",
       "\n",
       "       ...,\n",
       "\n",
       "       [[0., 0., 0.],\n",
       "        [0., 0., 0.],\n",
       "        [0., 0., 0.],\n",
       "        ...,\n",
       "        [0., 0., 0.],\n",
       "        [0., 0., 0.],\n",
       "        [0., 0., 0.]],\n",
       "\n",
       "       [[0., 0., 0.],\n",
       "        [0., 0., 0.],\n",
       "        [0., 0., 0.],\n",
       "        ...,\n",
       "        [0., 0., 0.],\n",
       "        [0., 0., 0.],\n",
       "        [0., 0., 0.]],\n",
       "\n",
       "       [[0., 0., 0.],\n",
       "        [0., 0., 0.],\n",
       "        [0., 0., 0.],\n",
       "        ...,\n",
       "        [0., 0., 0.],\n",
       "        [0., 0., 0.],\n",
       "        [0., 0., 0.]]])"
      ]
     },
     "execution_count": 76,
     "metadata": {},
     "output_type": "execute_result"
    }
   ],
   "source": [
    "np.clip(tmp, 0, 255, out=tmp)"
   ]
  },
  {
   "cell_type": "code",
   "execution_count": 77,
   "metadata": {
    "collapsed": false
   },
   "outputs": [
    {
     "data": {
      "text/plain": [
       "255.0"
      ]
     },
     "execution_count": 77,
     "metadata": {},
     "output_type": "execute_result"
    }
   ],
   "source": [
    "tmp.max()"
   ]
  },
  {
   "cell_type": "code",
   "execution_count": 82,
   "metadata": {
    "collapsed": false
   },
   "outputs": [
    {
     "data": {
      "image/png": "[encoded data removed]",
      "text/plain": [
       "<matplotlib.figure.Figure at 0x7fac95340c50>"
      ]
     },
     "metadata": {},
     "output_type": "display_data"
    }
   ],
   "source": [
    "plt.figure(figsize=(10,20))\n",
    "plt.imshow(tmp/float(tmp.max()), cmap='jet')\n",
    "plt.show()"
   ]
  },
  {
   "cell_type": "code",
   "execution_count": null,
   "metadata": {
    "collapsed": true
   },
   "outputs": [],
   "source": []
  },
  {
   "cell_type": "code",
   "execution_count": 63,
   "metadata": {
    "collapsed": false
   },
   "outputs": [
    {
     "name": "stdout",
     "output_type": "stream",
     "text": [
      "-1.0\n"
     ]
    }
   ],
   "source": [
    "print(max_el)"
   ]
  },
  {
   "cell_type": "code",
   "execution_count": 65,
   "metadata": {
    "collapsed": true
   },
   "outputs": [],
   "source": [
    "f.close()"
   ]
  },
  {
   "cell_type": "code",
   "execution_count": 66,
   "metadata": {
    "collapsed": false
   },
   "outputs": [
    {
     "name": "stdout",
     "output_type": "stream",
     "text": [
      "0.0\n"
     ]
    }
   ],
   "source": [
    "# min\n",
    "f = open('/media/hpc4_Raid/dsungatullina/transfer-to-zhores/lists_1024/cityscapes_depth_train.txt')\n",
    "min_el = 65535\n",
    "\n",
    "for line in f:\n",
    "    depth = cv2.imread(line[:-1], cv2.IMREAD_UNCHANGED)\n",
    "    tmp = np.min(depth)\n",
    "    \n",
    "    if tmp < min_el:\n",
    "        min_el = tmp\n",
    "        \n",
    "print(min_el)\n",
    "f.close()"
   ]
  },
  {
   "cell_type": "code",
   "execution_count": 68,
   "metadata": {
    "collapsed": false
   },
   "outputs": [
    {
     "name": "stdout",
     "output_type": "stream",
     "text": [
      "0.060522927401166465\n"
     ]
    }
   ],
   "source": [
    "# mean\n",
    "f = open('/media/hpc4_Raid/dsungatullina/transfer-to-zhores/lists_1024/cityscapes_depth_train.txt')\n",
    "mean_sum = 0.0\n",
    "k = 0\n",
    "\n",
    "for line in f:\n",
    "    img = cv2.imread(line[:-1], cv2.IMREAD_UNCHANGED)\n",
    "    img = img / 473.5748596191406\n",
    "\n",
    "    img_1d = np.reshape(img[:, :], -1)\n",
    "    \n",
    "    mean = np.mean(img_1d)\n",
    "    \n",
    "    mean_sum = mean_sum + mean\n",
    "    \n",
    "    k = k + 1\n",
    "        \n",
    "print(mean_sum/k)\n",
    "f.close()"
   ]
  },
  {
   "cell_type": "code",
   "execution_count": 70,
   "metadata": {
    "collapsed": false
   },
   "outputs": [
    {
     "name": "stdout",
     "output_type": "stream",
     "text": [
      "0.10162460806439681\n"
     ]
    }
   ],
   "source": [
    "# std\n",
    "f = open('/media/hpc4_Raid/dsungatullina/transfer-to-zhores/lists_1024/cityscapes_depth_train.txt')\n",
    "ssd = 0.0\n",
    "k = 0.0\n",
    "\n",
    "for line in f:\n",
    "    img = cv2.imread(line[:-1], cv2.IMREAD_UNCHANGED)\n",
    "    img = img / 473.5748596191406\n",
    "\n",
    "    img_1d = np.reshape(img[:, :], -1)\n",
    "    \n",
    "    img_1d = img_1d - 0.060522927401166465\n",
    "    \n",
    "    ssd = ssd + np.sum(img_1d**2)\n",
    "    \n",
    "    k = k + 1\n",
    "        \n",
    "print(np.sqrt(ssd/(k*img.shape[0]*img.shape[1] - 1)))    \n",
    "f.close()"
   ]
  },
  {
   "cell_type": "code",
   "execution_count": 71,
   "metadata": {
    "collapsed": false
   },
   "outputs": [
    {
     "data": {
      "text/plain": [
       "2975.0"
      ]
     },
     "execution_count": 71,
     "metadata": {},
     "output_type": "execute_result"
    }
   ],
   "source": [
    "k"
   ]
  },
  {
   "cell_type": "code",
   "execution_count": null,
   "metadata": {
    "collapsed": true
   },
   "outputs": [],
   "source": []
  }
 ],
 "metadata": {
  "kernelspec": {
   "display_name": "Python 2",
   "language": "python",
   "name": "python2"
  },
  "language_info": {
   "codemirror_mode": {
    "name": "ipython",
    "version": 2
   },
   "file_extension": ".py",
   "mimetype": "text/x-python",
   "name": "python",
   "nbconvert_exporter": "python",
   "pygments_lexer": "ipython2",
   "version": "2.7.6"
  }
 },
 "nbformat": 4,
 "nbformat_minor": 1
}
