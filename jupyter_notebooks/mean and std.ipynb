{
 "cells": [
  {
   "cell_type": "code",
   "execution_count": 1,
   "metadata": {
    "collapsed": true
   },
   "outputs": [],
   "source": [
    "import os\n",
    "import glob\n",
    "import cv2\n",
    "import numpy as np\n",
    "import matplotlib.pyplot as plt\n",
    "\n",
    "from PIL import Image\n",
    "from scipy.ndimage.morphology import grey_closing"
   ]
  },
  {
   "cell_type": "markdown",
   "metadata": {},
   "source": [
    "### SYNTHIA RGB"
   ]
  },
  {
   "cell_type": "code",
   "execution_count": 5,
   "metadata": {
    "collapsed": false
   },
   "outputs": [
    {
     "name": "stdout",
     "output_type": "stream",
     "text": [
      "8000\n"
     ]
    }
   ],
   "source": [
    "filenames = glob.glob('/media/hpc4_Raid/data/SYNTHIA/RAND_CITYSCAPES/RGB/train/*.png')\n",
    "filenames.sort()\n",
    "print(len(filenames))"
   ]
  },
  {
   "cell_type": "code",
   "execution_count": 3,
   "metadata": {
    "collapsed": true
   },
   "outputs": [],
   "source": [
    "mean_sum_r = 0.0\n",
    "mean_sum_g = 0.0\n",
    "mean_sum_b = 0.0\n",
    "\n",
    "for i in range(len(filenames)):\n",
    "    \n",
    "    img = Image.open(filenames[i]).convert('RGB')\n",
    "    img = np.array(img)\n",
    "    \n",
    "    img_1d_r = np.reshape(img[:,:,0], -1)\n",
    "    img_1d_g = np.reshape(img[:,:,1], -1)\n",
    "    img_1d_b = np.reshape(img[:,:,2], -1)\n",
    "    \n",
    "    mean_r = np.mean(img_1d_r)\n",
    "    mean_g = np.mean(img_1d_g)\n",
    "    mean_b = np.mean(img_1d_b)\n",
    "\n",
    "    mean_sum_r = mean_sum_r + mean_r\n",
    "    mean_sum_g = mean_sum_g + mean_g\n",
    "    mean_sum_b = mean_sum_b + mean_b"
   ]
  },
  {
   "cell_type": "code",
   "execution_count": 4,
   "metadata": {
    "collapsed": false
   },
   "outputs": [
    {
     "name": "stdout",
     "output_type": "stream",
     "text": [
      "(81.41540869461858, 71.5907729090001, 64.15859488769543)\n"
     ]
    }
   ],
   "source": [
    "print(mean_sum_r/8000.0, mean_sum_g/8000.0, mean_sum_b/8000.0)"
   ]
  },
  {
   "cell_type": "markdown",
   "metadata": {},
   "source": [
    "### SYNTHIA Depth"
   ]
  },
  {
   "cell_type": "code",
   "execution_count": 6,
   "metadata": {
    "collapsed": false
   },
   "outputs": [
    {
     "name": "stdout",
     "output_type": "stream",
     "text": [
      "8000\n"
     ]
    }
   ],
   "source": [
    "filenames = glob.glob('/media/hpc4_Raid/data/SYNTHIA/RAND_CITYSCAPES/Depth/train/*.png')\n",
    "filenames.sort()\n",
    "print(len(filenames))"
   ]
  },
  {
   "cell_type": "code",
   "execution_count": 29,
   "metadata": {
    "collapsed": false
   },
   "outputs": [
    {
     "name": "stdout",
     "output_type": "stream",
     "text": [
      "59.63029240529034\n"
     ]
    }
   ],
   "source": [
    "mean_sum = 0.0\n",
    "\n",
    "for i in range(len(filenames)):\n",
    "    \n",
    "    img = cv2.imread(filenames[i], cv2.IMREAD_UNCHANGED)\n",
    "    img = img[:, :, 0] / 100.0\n",
    "    \n",
    "    img_1d = np.reshape(img[:, :], -1)\n",
    "    \n",
    "    mean = np.mean(img_1d)\n",
    "\n",
    "    mean_sum = mean_sum + mean\n",
    "    \n",
    "print(mean_sum/8000.0)"
   ]
  },
  {
   "cell_type": "code",
   "execution_count": 33,
   "metadata": {
    "collapsed": false
   },
   "outputs": [
    {
     "data": {
      "text/plain": [
       "655.35"
      ]
     },
     "execution_count": 33,
     "metadata": {},
     "output_type": "execute_result"
    }
   ],
   "source": [
    "img_1d.max()"
   ]
  },
  {
   "cell_type": "code",
   "execution_count": 34,
   "metadata": {
    "collapsed": false
   },
   "outputs": [
    {
     "name": "stdout",
     "output_type": "stream",
     "text": [
      "26049.87080554224\n"
     ]
    }
   ],
   "source": [
    "ssd = 0.0\n",
    "\n",
    "for i in range(len(filenames)):\n",
    "    \n",
    "    img = cv2.imread(filenames[i], cv2.IMREAD_UNCHANGED)\n",
    "    img = img[:, :, 0] / 100.0\n",
    "    \n",
    "    img_1d = np.reshape(img[:, :], -1)\n",
    "    \n",
    "    img_1d = img_1d - 59.63\n",
    "    \n",
    "    ssd = ssd + np.sum(img_1d**2)\n",
    "    \n",
    "print(ssd / (8000*760*1280 - 1))    "
   ]
  },
  {
   "cell_type": "code",
   "execution_count": 36,
   "metadata": {
    "collapsed": false
   },
   "outputs": [],
   "source": [
    "std = np.sqrt(ssd / (8000*760*1280 - 1))"
   ]
  },
  {
   "cell_type": "code",
   "execution_count": 37,
   "metadata": {
    "collapsed": false
   },
   "outputs": [
    {
     "data": {
      "text/plain": [
       "161.39972368483856"
      ]
     },
     "execution_count": 37,
     "metadata": {},
     "output_type": "execute_result"
    }
   ],
   "source": [
    "std"
   ]
  },
  {
   "cell_type": "code",
   "execution_count": null,
   "metadata": {
    "collapsed": true
   },
   "outputs": [],
   "source": []
  },
  {
   "cell_type": "markdown",
   "metadata": {},
   "source": [
    "### SYNTHIA Depth max element"
   ]
  },
  {
   "cell_type": "code",
   "execution_count": 42,
   "metadata": {
    "collapsed": false
   },
   "outputs": [
    {
     "name": "stdout",
     "output_type": "stream",
     "text": [
      "8000\n"
     ]
    }
   ],
   "source": [
    "filenames = glob.glob('/media/hpc4_Raid/data/SYNTHIA/RAND_CITYSCAPES/Depth/train/*.png')\n",
    "filenames.sort()\n",
    "print(len(filenames))"
   ]
  },
  {
   "cell_type": "code",
   "execution_count": 43,
   "metadata": {
    "collapsed": false
   },
   "outputs": [
    {
     "name": "stdout",
     "output_type": "stream",
     "text": [
      "655.35\n"
     ]
    }
   ],
   "source": [
    "max_el = -1.0\n",
    "\n",
    "for i in range(len(filenames)):\n",
    "    \n",
    "    img = cv2.imread(filenames[i], cv2.IMREAD_UNCHANGED)\n",
    "    img = img[:, :, 0] / 100.0\n",
    "    \n",
    "    tmp = np.amax(img)\n",
    "    \n",
    "    if tmp > max_el:\n",
    "        max_el = tmp\n",
    "    \n",
    "print(max_el)    "
   ]
  },
  {
   "cell_type": "code",
   "execution_count": 44,
   "metadata": {
    "collapsed": false
   },
   "outputs": [
    {
     "name": "stdout",
     "output_type": "stream",
     "text": [
      "2.11\n"
     ]
    }
   ],
   "source": [
    "min_el = 65536\n",
    "\n",
    "for i in range(len(filenames)):\n",
    "    \n",
    "    img = cv2.imread(filenames[i], cv2.IMREAD_UNCHANGED)\n",
    "    img = img[:, :, 0] / 100.0\n",
    "    \n",
    "    tmp = np.min(img)\n",
    "    \n",
    "    if tmp < min_el:\n",
    "        mix_el = tmp\n",
    "    \n",
    "print(mix_el)    "
   ]
  },
  {
   "cell_type": "code",
   "execution_count": null,
   "metadata": {
    "collapsed": true
   },
   "outputs": [],
   "source": []
  },
  {
   "cell_type": "markdown",
   "metadata": {},
   "source": [
    "### SYNTHIA Depth mean and std for [0,1]"
   ]
  },
  {
   "cell_type": "code",
   "execution_count": 46,
   "metadata": {
    "collapsed": false
   },
   "outputs": [
    {
     "name": "stdout",
     "output_type": "stream",
     "text": [
      "0.09098860535475199\n"
     ]
    }
   ],
   "source": [
    "mean_sum = 0.0\n",
    "\n",
    "for i in range(len(filenames)):\n",
    "    \n",
    "    img = cv2.imread(filenames[i], cv2.IMREAD_UNCHANGED)\n",
    "    img = img[:, :, 0] / 65536.0\n",
    "    \n",
    "    img_1d = np.reshape(img[:, :], -1)\n",
    "    \n",
    "    mean = np.mean(img_1d)\n",
    "\n",
    "    mean_sum = mean_sum + mean\n",
    "    \n",
    "print(mean_sum/len(filenames))"
   ]
  },
  {
   "cell_type": "code",
   "execution_count": 47,
   "metadata": {
    "collapsed": false
   },
   "outputs": [
    {
     "name": "stdout",
     "output_type": "stream",
     "text": [
      "0.06065208186734597\n"
     ]
    }
   ],
   "source": [
    "ssd = 0.0\n",
    "\n",
    "for i in range(len(filenames)):\n",
    "    \n",
    "    img = cv2.imread(filenames[i], cv2.IMREAD_UNCHANGED)\n",
    "    img = img[:, :, 0] / 65536.0\n",
    "    \n",
    "    img_1d = np.reshape(img[:, :], -1)\n",
    "    \n",
    "    img_1d = img_1d - 0.09098860535475199\n",
    "    \n",
    "    ssd = ssd + np.sum(img_1d**2)\n",
    "    \n",
    "print(np.sqrt(ssd/(len(filenames)*img.shape[0]*img.shape[1] - 1))    "
   ]
  },
  {
   "cell_type": "code",
   "execution_count": 55,
   "metadata": {
    "collapsed": false
   },
   "outputs": [
    {
     "data": {
      "text/plain": [
       "1.0"
      ]
     },
     "execution_count": 55,
     "metadata": {},
     "output_type": "execute_result"
    }
   ],
   "source": [
    "(1.0 - 0.5) / 0.5"
   ]
  },
  {
   "cell_type": "code",
   "execution_count": 60,
   "metadata": {
    "collapsed": false
   },
   "outputs": [
    {
     "name": "stdout",
     "output_type": "stream",
     "text": [
      "0.2462764338450546\n"
     ]
    }
   ],
   "source": [
    "ssd = 0.0\n",
    "\n",
    "tmp1 = 0.0\n",
    "\n",
    "for i in range(len(filenames)):\n",
    "    \n",
    "    img = cv2.imread(filenames[i], cv2.IMREAD_UNCHANGED)\n",
    "    img = img[:, :, 0] / 65536.0\n",
    "    \n",
    "    img_1d = np.reshape(img[:, :], -1)\n",
    "    \n",
    "    tmp1 = tmp1 + np.sum(img_1d**2)\n",
    "    \n",
    "print(np.sqrt((tmp1/(len(filenames)*img.shape[0]*img.shape[1]) -  0.09098860535475199*0.09098860535475199)*1.00000000013))    "
   ]
  },
  {
   "cell_type": "code",
   "execution_count": 57,
   "metadata": {
    "collapsed": false
   },
   "outputs": [
    {
     "name": "stdout",
     "output_type": "stream",
     "text": [
      "7782400000\n"
     ]
    }
   ],
   "source": [
    "n = len(filenames)*img.shape[0]*img.shape[1]\n",
    "print(n)"
   ]
  },
  {
   "cell_type": "code",
   "execution_count": 59,
   "metadata": {
    "collapsed": false
   },
   "outputs": [
    {
     "name": "stdout",
     "output_type": "stream",
     "text": [
      "1.00000000013\n"
     ]
    }
   ],
   "source": [
    "n_n1 = 7782400000 / (7782400000 - 1.0)\n",
    "print(n_n1)"
   ]
  },
  {
   "cell_type": "markdown",
   "metadata": {},
   "source": [
    "#### Clap"
   ]
  },
  {
   "cell_type": "code",
   "execution_count": 72,
   "metadata": {
    "collapsed": false
   },
   "outputs": [
    {
     "name": "stdout",
     "output_type": "stream",
     "text": [
      "8000\n"
     ]
    }
   ],
   "source": [
    "filenames = glob.glob('/media/hpc4_Raid/data/SYNTHIA/RAND_CITYSCAPES/Depth/train/*.png')\n",
    "filenames.sort()\n",
    "print(len(filenames))"
   ]
  },
  {
   "cell_type": "code",
   "execution_count": 74,
   "metadata": {
    "collapsed": false
   },
   "outputs": [
    {
     "name": "stdout",
     "output_type": "stream",
     "text": [
      "47.437270769226934\n"
     ]
    }
   ],
   "source": [
    "mean_sum = 0.0\n",
    "\n",
    "for i in range(len(filenames)):\n",
    "    \n",
    "    img = cv2.imread(filenames[i], cv2.IMREAD_UNCHANGED)\n",
    "    img = img[:, :, 0] / 100.0\n",
    "    img[img > 473.5748596191406] = 473.5748596191406\n",
    "    \n",
    "    img_1d = np.reshape(img[:, :], -1)\n",
    "    \n",
    "    mean = np.mean(img_1d)\n",
    "\n",
    "    mean_sum = mean_sum + mean\n",
    "    \n",
    "print(mean_sum/len(filenames))"
   ]
  },
  {
   "cell_type": "code",
   "execution_count": 75,
   "metadata": {
    "collapsed": false
   },
   "outputs": [
    {
     "name": "stdout",
     "output_type": "stream",
     "text": [
      "0.1001684734856429\n"
     ]
    }
   ],
   "source": [
    "mean_sum = 0.0\n",
    "\n",
    "for i in range(len(filenames)):\n",
    "    \n",
    "    img = cv2.imread(filenames[i], cv2.IMREAD_UNCHANGED)\n",
    "    img = img[:, :, 0] / 100.0\n",
    "    img[img > 473.5748596191406] = 473.5748596191406\n",
    "    img = img / 473.5748596191406\n",
    "    \n",
    "    img_1d = np.reshape(img[:, :], -1)\n",
    "    \n",
    "    mean = np.mean(img_1d)\n",
    "\n",
    "    mean_sum = mean_sum + mean\n",
    "    \n",
    "print(mean_sum/len(filenames))"
   ]
  },
  {
   "cell_type": "code",
   "execution_count": 76,
   "metadata": {
    "collapsed": false
   },
   "outputs": [
    {
     "ename": "SyntaxError",
     "evalue": "invalid syntax (<ipython-input-76-a4c397f7bd63>, line 15)",
     "output_type": "error",
     "traceback": [
      "\u001b[0;36m  File \u001b[0;32m\"<ipython-input-76-a4c397f7bd63>\"\u001b[0;36m, line \u001b[0;32m15\u001b[0m\n\u001b[0;31m    print(np.sqrt(ssd/(len(filenames)*img.shape[0]*img.shape[1] - 1))\u001b[0m\n\u001b[0m                                                                         ^\u001b[0m\n\u001b[0;31mSyntaxError\u001b[0m\u001b[0;31m:\u001b[0m invalid syntax\n"
     ]
    }
   ],
   "source": [
    "ssd = 0.0\n",
    "\n",
    "for i in range(len(filenames)):\n",
    "    \n",
    "    img = cv2.imread(filenames[i], cv2.IMREAD_UNCHANGED)\n",
    "    img = img[:, :, 0] / 100.0\n",
    "    img[img > 473.5748596191406] = 473.5748596191406\n",
    "    \n",
    "    img_1d = np.reshape(img[:, :], -1)\n",
    "    \n",
    "    img_1d = img_1d - 47.437270769226934\n",
    "    \n",
    "    ssd = ssd + np.sum(img_1d**2)\n",
    "    \n",
    "print(np.sqrt(ssd/(len(filenames)*img.shape[0]*img.shape[1] - 1)))    "
   ]
  },
  {
   "cell_type": "code",
   "execution_count": 77,
   "metadata": {
    "collapsed": false
   },
   "outputs": [
    {
     "name": "stdout",
     "output_type": "stream",
     "text": [
      "0.045495721101100985\n"
     ]
    }
   ],
   "source": [
    "print(np.sqrt(ssd/(len(filenames)*img.shape[0]*img.shape[1] - 1))) "
   ]
  },
  {
   "cell_type": "code",
   "execution_count": 79,
   "metadata": {
    "collapsed": false
   },
   "outputs": [
    {
     "name": "stdout",
     "output_type": "stream",
     "text": [
      "0.24616704090188363\n"
     ]
    }
   ],
   "source": [
    "ssd = 0.0\n",
    "\n",
    "for i in range(len(filenames)):\n",
    "    \n",
    "    img = cv2.imread(filenames[i], cv2.IMREAD_UNCHANGED)\n",
    "    img = img[:, :, 0] / 100.0\n",
    "    img[img > 473.5748596191406] = 473.5748596191406\n",
    "    img = img / 473.5748596191406\n",
    "    \n",
    "    img_1d = np.reshape(img[:, :], -1)\n",
    "    \n",
    "    img_1d = img_1d - 0.1001684734856429\n",
    "    \n",
    "    ssd = ssd + np.sum(img_1d**2)\n",
    "    \n",
    "print(np.sqrt(ssd/(len(filenames)*img.shape[0]*img.shape[1] - 1)))   "
   ]
  },
  {
   "cell_type": "code",
   "execution_count": null,
   "metadata": {
    "collapsed": true
   },
   "outputs": [],
   "source": []
  },
  {
   "cell_type": "markdown",
   "metadata": {},
   "source": [
    "### Cityscapes RGB"
   ]
  },
  {
   "cell_type": "markdown",
   "metadata": {},
   "source": [
    "### Cityscapes Depth"
   ]
  },
  {
   "cell_type": "code",
   "execution_count": 62,
   "metadata": {
    "collapsed": false
   },
   "outputs": [],
   "source": [
    "f = open('/media/hpc4_Raid/dsungatullina/transfer-to-zhores/lists_1024/cityscapes_depth_train.txt')"
   ]
  },
  {
   "cell_type": "code",
   "execution_count": 63,
   "metadata": {
    "collapsed": true
   },
   "outputs": [],
   "source": [
    "max_el = -1.0\n",
    "\n",
    "for line in f:\n",
    "    depth = cv2.imread(line[:-1], cv2.IMREAD_UNCHANGED)\n",
    "    tmp = np.amax(depth)\n",
    "    \n",
    "    if tmp > max_el:\n",
    "        max_el = tmp"
   ]
  },
  {
   "cell_type": "code",
   "execution_count": 64,
   "metadata": {
    "collapsed": false
   },
   "outputs": [
    {
     "name": "stdout",
     "output_type": "stream",
     "text": [
      "473.5748596191406\n"
     ]
    }
   ],
   "source": [
    "print(max_el)"
   ]
  },
  {
   "cell_type": "code",
   "execution_count": 65,
   "metadata": {
    "collapsed": true
   },
   "outputs": [],
   "source": [
    "f.close()"
   ]
  },
  {
   "cell_type": "code",
   "execution_count": 66,
   "metadata": {
    "collapsed": false
   },
   "outputs": [
    {
     "name": "stdout",
     "output_type": "stream",
     "text": [
      "0.0\n"
     ]
    }
   ],
   "source": [
    "# min\n",
    "f = open('/media/hpc4_Raid/dsungatullina/transfer-to-zhores/lists_1024/cityscapes_depth_train.txt')\n",
    "min_el = 65535\n",
    "\n",
    "for line in f:\n",
    "    depth = cv2.imread(line[:-1], cv2.IMREAD_UNCHANGED)\n",
    "    tmp = np.min(depth)\n",
    "    \n",
    "    if tmp < min_el:\n",
    "        min_el = tmp\n",
    "        \n",
    "print(min_el)\n",
    "f.close()"
   ]
  },
  {
   "cell_type": "code",
   "execution_count": 68,
   "metadata": {
    "collapsed": false
   },
   "outputs": [
    {
     "name": "stdout",
     "output_type": "stream",
     "text": [
      "0.060522927401166465\n"
     ]
    }
   ],
   "source": [
    "# mean\n",
    "f = open('/media/hpc4_Raid/dsungatullina/transfer-to-zhores/lists_1024/cityscapes_depth_train.txt')\n",
    "mean_sum = 0.0\n",
    "k = 0\n",
    "\n",
    "for line in f:\n",
    "    img = cv2.imread(line[:-1], cv2.IMREAD_UNCHANGED)\n",
    "    img = img / 473.5748596191406\n",
    "\n",
    "    img_1d = np.reshape(img[:, :], -1)\n",
    "    \n",
    "    mean = np.mean(img_1d)\n",
    "    \n",
    "    mean_sum = mean_sum + mean\n",
    "    \n",
    "    k = k + 1\n",
    "        \n",
    "print(mean_sum/k)\n",
    "f.close()"
   ]
  },
  {
   "cell_type": "code",
   "execution_count": 70,
   "metadata": {
    "collapsed": false
   },
   "outputs": [
    {
     "name": "stdout",
     "output_type": "stream",
     "text": [
      "0.10162460806439681\n"
     ]
    }
   ],
   "source": [
    "# std\n",
    "f = open('/media/hpc4_Raid/dsungatullina/transfer-to-zhores/lists_1024/cityscapes_depth_train.txt')\n",
    "ssd = 0.0\n",
    "k = 0.0\n",
    "\n",
    "for line in f:\n",
    "    img = cv2.imread(line[:-1], cv2.IMREAD_UNCHANGED)\n",
    "    img = img / 473.5748596191406\n",
    "\n",
    "    img_1d = np.reshape(img[:, :], -1)\n",
    "    \n",
    "    img_1d = img_1d - 0.060522927401166465\n",
    "    \n",
    "    ssd = ssd + np.sum(img_1d**2)\n",
    "    \n",
    "    k = k + 1\n",
    "        \n",
    "print(np.sqrt(ssd/(k*img.shape[0]*img.shape[1] - 1)))    \n",
    "f.close()"
   ]
  },
  {
   "cell_type": "code",
   "execution_count": 71,
   "metadata": {
    "collapsed": false
   },
   "outputs": [
    {
     "data": {
      "text/plain": [
       "2975.0"
      ]
     },
     "execution_count": 71,
     "metadata": {},
     "output_type": "execute_result"
    }
   ],
   "source": [
    "k"
   ]
  },
  {
   "cell_type": "code",
   "execution_count": null,
   "metadata": {
    "collapsed": true
   },
   "outputs": [],
   "source": []
  }
 ],
 "metadata": {
  "kernelspec": {
   "display_name": "Python 2",
   "language": "python",
   "name": "python2"
  },
  "language_info": {
   "codemirror_mode": {
    "name": "ipython",
    "version": 2
   },
   "file_extension": ".py",
   "mimetype": "text/x-python",
   "name": "python",
   "nbconvert_exporter": "python",
   "pygments_lexer": "ipython2",
   "version": "2.7.6"
  }
 },
 "nbformat": 4,
 "nbformat_minor": 1
}
