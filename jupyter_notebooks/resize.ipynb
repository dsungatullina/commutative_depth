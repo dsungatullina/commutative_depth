{
 "cells": [
  {
   "cell_type": "markdown",
   "metadata": {
    "collapsed": false
   },
   "source": [
    "## Resize image"
   ]
  },
  {
   "cell_type": "code",
   "execution_count": 311,
   "metadata": {
    "collapsed": true
   },
   "outputs": [],
   "source": [
    "import glob\n",
    "\n",
    "from PIL import Image\n",
    "from scipy.ndimage.morphology import grey_closing"
   ]
  },
  {
   "cell_type": "code",
   "execution_count": 2,
   "metadata": {
    "collapsed": true
   },
   "outputs": [],
   "source": [
    "import numpy as np"
   ]
  },
  {
   "cell_type": "code",
   "execution_count": 3,
   "metadata": {
    "collapsed": true
   },
   "outputs": [],
   "source": [
    "import os"
   ]
  },
  {
   "cell_type": "code",
   "execution_count": 4,
   "metadata": {
    "collapsed": true
   },
   "outputs": [],
   "source": [
    "import cv2"
   ]
  },
  {
   "cell_type": "markdown",
   "metadata": {},
   "source": [
    "### Cityscapes dataset RGB"
   ]
  },
  {
   "cell_type": "code",
   "execution_count": 293,
   "metadata": {
    "collapsed": true
   },
   "outputs": [],
   "source": [
    "save_path = '/media/hpc4_Raid/dsungatullina/transfer-to-zhores/Cityscapes/leftImg8bit_1024x512/train/'"
   ]
  },
  {
   "cell_type": "code",
   "execution_count": 294,
   "metadata": {
    "collapsed": true
   },
   "outputs": [],
   "source": [
    "f = open('/media/hpc4_Raid/e_burkov/Datasets/Cityscapes/train_images.txt')"
   ]
  },
  {
   "cell_type": "code",
   "execution_count": 295,
   "metadata": {
    "collapsed": false
   },
   "outputs": [],
   "source": [
    "for line in f:\n",
    "    name = line[:-1].split('/')[-1]\n",
    "    city_dir = line[:-1].split('/')[-2]\n",
    "    if not os.path.exists(save_path + city_dir):\n",
    "        os.makedirs(save_path + city_dir)\n",
    "    img = Image.open(line[:-1])\n",
    "    new_img = img.resize((1024,512), resample=Image.LANCZOS)\n",
    "    new_img.save(save_path + city_dir + '/' + name, \"PNG\")"
   ]
  },
  {
   "cell_type": "code",
   "execution_count": 296,
   "metadata": {
    "collapsed": true
   },
   "outputs": [],
   "source": [
    "f.close()"
   ]
  },
  {
   "cell_type": "code",
   "execution_count": 297,
   "metadata": {
    "collapsed": true
   },
   "outputs": [],
   "source": [
    "save_path = '/media/hpc4_Raid/dsungatullina/transfer-to-zhores/Cityscapes/leftImg8bit_1024x512/test/'\n",
    "f = open('/media/hpc4_Raid/e_burkov/Datasets/Cityscapes/test_images.txt')\n",
    "for line in f:\n",
    "    name = line[:-1].split('/')[-1]\n",
    "    city_dir = line[:-1].split('/')[-2]\n",
    "    if not os.path.exists(save_path + city_dir):\n",
    "        os.makedirs(save_path + city_dir)\n",
    "    img = Image.open(line[:-1])\n",
    "    new_img = img.resize((1024,512), resample=Image.LANCZOS)\n",
    "    new_img.save(save_path + city_dir + '/' + name, \"PNG\")"
   ]
  },
  {
   "cell_type": "code",
   "execution_count": 298,
   "metadata": {
    "collapsed": true
   },
   "outputs": [],
   "source": [
    "f.close()"
   ]
  },
  {
   "cell_type": "code",
   "execution_count": 299,
   "metadata": {
    "collapsed": true
   },
   "outputs": [],
   "source": [
    "save_path = '/media/hpc4_Raid/dsungatullina/transfer-to-zhores/Cityscapes/leftImg8bit_1024x512/val/'\n",
    "f = open('/media/hpc4_Raid/e_burkov/Datasets/Cityscapes/val_images.txt')\n",
    "for line in f:\n",
    "    name = line[:-1].split('/')[-1]\n",
    "    city_dir = line[:-1].split('/')[-2]\n",
    "    if not os.path.exists(save_path + city_dir):\n",
    "        os.makedirs(save_path + city_dir)\n",
    "    img = Image.open(line[:-1])\n",
    "    new_img = img.resize((1024,512), resample=Image.LANCZOS)\n",
    "    new_img.save(save_path + city_dir + '/' + name, \"PNG\")\n",
    "f.close()"
   ]
  },
  {
   "cell_type": "code",
   "execution_count": null,
   "metadata": {
    "collapsed": true
   },
   "outputs": [],
   "source": [
    "# data = np.asarray(im)\n",
    "# im = Image.fromarray(np.roll(data, 1, axis=-1))"
   ]
  },
  {
   "cell_type": "code",
   "execution_count": null,
   "metadata": {
    "collapsed": true
   },
   "outputs": [],
   "source": [
    "# import cv2\n",
    "# srcBGR = cv2.imread(\"sample.png\")\n",
    "# destRGB = cv2.cvtColor(srcBGR, cv2.COLOR_BGR2RGB)"
   ]
  },
  {
   "cell_type": "markdown",
   "metadata": {},
   "source": [
    "### Cityscapes dataset Semantic Segmentation"
   ]
  },
  {
   "cell_type": "markdown",
   "metadata": {
    "collapsed": true
   },
   "source": [
    "#### LABELS"
   ]
  },
  {
   "cell_type": "code",
   "execution_count": 52,
   "metadata": {
    "collapsed": true
   },
   "outputs": [],
   "source": [
    "save_path_512 = '/media/hpc4_Raid/dsungatullina/transfer-to-zhores/Cityscapes/gtFine_512x256/train/'\n",
    "save_path_1024 = '/media/hpc4_Raid/dsungatullina/transfer-to-zhores/Cityscapes/gtFine_1024x512/train/'\n",
    "txt_filename = '/media/hpc4_Raid/e_burkov/Datasets/Cityscapes/train_labels.txt'"
   ]
  },
  {
   "cell_type": "code",
   "execution_count": 53,
   "metadata": {
    "collapsed": true
   },
   "outputs": [],
   "source": [
    "downsample_size_1024 = (1024, 512)\n",
    "downsample_size_512 = (512, 256)"
   ]
  },
  {
   "cell_type": "code",
   "execution_count": 54,
   "metadata": {
    "collapsed": false
   },
   "outputs": [],
   "source": [
    "f = open(txt_filename)\n",
    "for line in f:\n",
    "    name = line[:-1].split('/')[-1]\n",
    "    city_dir = line[:-1].split('/')[-2]\n",
    "    if not os.path.exists(save_path_512 + city_dir):\n",
    "        os.makedirs(save_path_512 + city_dir)\n",
    "    if not os.path.exists(save_path_1024 + city_dir):\n",
    "        os.makedirs(save_path_1024 + city_dir)\n",
    "    \n",
    "    labels = cv2.imread(line[:-1], cv2.IMREAD_UNCHANGED)\n",
    "    res = np.ones(labels.shape)*255\n",
    "    res[labels == 0] = 255\n",
    "    res[labels == 1] = 255\n",
    "    res[labels == 2] = 255\n",
    "    res[labels == 3] = 255\n",
    "    res[labels == 4] = 255\n",
    "    res[labels == 5] = 255\n",
    "    res[labels == 6] = 255\n",
    "    res[labels == 7] = 0\n",
    "    res[labels == 8] = 1\n",
    "    res[labels == 9] = 255\n",
    "    res[labels == 10] = 255\n",
    "    res[labels == 11] = 2\n",
    "    res[labels == 12] = 3\n",
    "    res[labels == 13] = 4\n",
    "    res[labels == 14] = 255\n",
    "    res[labels == 15] = 255\n",
    "    res[labels == 16] = 255\n",
    "    res[labels == 17] = 5\n",
    "    res[labels == 18] = 255\n",
    "    res[labels == 19] = 6\n",
    "    res[labels == 20] = 7\n",
    "    res[labels == 21] = 8\n",
    "    res[labels == 22] = 9\n",
    "    res[labels == 23] = 10\n",
    "    res[labels == 24] = 11\n",
    "    res[labels == 25] = 12\n",
    "    res[labels == 26] = 13\n",
    "    res[labels == 27] = 14\n",
    "    res[labels == 28] = 15\n",
    "    res[labels == 29] = 255\n",
    "    res[labels == 30] = 155\n",
    "    res[labels == 31] = 16\n",
    "    res[labels == 32] = 17\n",
    "    res[labels == 33] = 18\n",
    "    res[labels == -1] = -1\n",
    "    \n",
    "    seg_1024 = cv2.resize(res, downsample_size_1024, interpolation=cv2.INTER_NEAREST)\n",
    "    seg_512 = cv2.resize(res, downsample_size_512, interpolation=cv2.INTER_NEAREST)\n",
    "\n",
    "    cv2.imwrite(save_path_1024 + city_dir + '/' + name, seg_1024)\n",
    "    cv2.imwrite(save_path_512 + city_dir + '/' + name, seg_512)\n",
    "    \n",
    "f.close()"
   ]
  },
  {
   "cell_type": "markdown",
   "metadata": {},
   "source": [
    "### SYNTHIA dataset RGB"
   ]
  },
  {
   "cell_type": "code",
   "execution_count": 307,
   "metadata": {
    "collapsed": false
   },
   "outputs": [
    {
     "name": "stdout",
     "output_type": "stream",
     "text": [
      "8000\n"
     ]
    }
   ],
   "source": [
    "filenames = glob.glob('/media/hpc4_Raid/data/SYNTHIA/RAND_CITYSCAPES/RGB/train/*.png')\n",
    "filenames.sort()\n",
    "print(len(filenames))"
   ]
  },
  {
   "cell_type": "code",
   "execution_count": 308,
   "metadata": {
    "collapsed": false
   },
   "outputs": [],
   "source": [
    "for i in range(len(filenames)):\n",
    "    name = filenames[i].split('/')[-1]\n",
    "    \n",
    "    img = Image.open(filenames[i])\n",
    "    \n",
    "    new_img = img.resize((1024,608), resample=Image.LANCZOS)\n",
    "    new_img.save('/media/hpc4_Raid/dsungatullina/transfer-to-zhores/SYNTHIA/RAND_CITYSCAPES/RGB_1024x608/train/' + name, \"PNG\")"
   ]
  },
  {
   "cell_type": "code",
   "execution_count": 309,
   "metadata": {
    "collapsed": false
   },
   "outputs": [
    {
     "name": "stdout",
     "output_type": "stream",
     "text": [
      "1000\n"
     ]
    }
   ],
   "source": [
    "filenames = glob.glob('/media/hpc4_Raid/data/SYNTHIA/RAND_CITYSCAPES/RGB/test/*.png')\n",
    "filenames.sort()\n",
    "print(len(filenames))\n",
    "\n",
    "for i in range(len(filenames)):\n",
    "    name = filenames[i].split('/')[-1]\n",
    "    \n",
    "    img = Image.open(filenames[i])\n",
    "    \n",
    "    new_img = img.resize((1024,608), resample=Image.LANCZOS)\n",
    "    new_img.save('/media/hpc4_Raid/dsungatullina/transfer-to-zhores/SYNTHIA/RAND_CITYSCAPES/RGB_1024x608/test/' + name, \"PNG\")"
   ]
  },
  {
   "cell_type": "code",
   "execution_count": 310,
   "metadata": {
    "collapsed": false
   },
   "outputs": [
    {
     "name": "stdout",
     "output_type": "stream",
     "text": [
      "400\n"
     ]
    }
   ],
   "source": [
    "filenames = glob.glob('/media/hpc4_Raid/data/SYNTHIA/RAND_CITYSCAPES/RGB/val/*.png')\n",
    "filenames.sort()\n",
    "print(len(filenames))\n",
    "\n",
    "for i in range(len(filenames)):\n",
    "    name = filenames[i].split('/')[-1]\n",
    "    \n",
    "    img = Image.open(filenames[i])\n",
    "    \n",
    "    new_img = img.resize((1024,608), resample=Image.LANCZOS)\n",
    "    new_img.save('/media/hpc4_Raid/dsungatullina/transfer-to-zhores/SYNTHIA/RAND_CITYSCAPES/RGB_1024x608/val/' + name, \"PNG\")"
   ]
  },
  {
   "cell_type": "code",
   "execution_count": null,
   "metadata": {
    "collapsed": true
   },
   "outputs": [],
   "source": []
  },
  {
   "cell_type": "markdown",
   "metadata": {},
   "source": [
    "### SYNTHIA dataset Semantic Segmentation"
   ]
  },
  {
   "cell_type": "markdown",
   "metadata": {},
   "source": [
    "#### LABELS"
   ]
  },
  {
   "cell_type": "code",
   "execution_count": 32,
   "metadata": {
    "collapsed": false
   },
   "outputs": [
    {
     "name": "stdout",
     "output_type": "stream",
     "text": [
      "400\n"
     ]
    }
   ],
   "source": [
    "filenames = glob.glob('/media/hpc4_Raid/data/SYNTHIA/RAND_CITYSCAPES/GT/LABELS/val/*.png')\n",
    "filenames.sort()\n",
    "print(len(filenames))"
   ]
  },
  {
   "cell_type": "code",
   "execution_count": 33,
   "metadata": {
    "collapsed": true
   },
   "outputs": [],
   "source": [
    "downsample_size_2x = (1024, 608)\n",
    "downsample_size_4x = (512, 304)"
   ]
  },
  {
   "cell_type": "code",
   "execution_count": 34,
   "metadata": {
    "collapsed": false
   },
   "outputs": [],
   "source": [
    "for i in range(len(filenames)):\n",
    "    name = filenames[i].split('/')[-1]\n",
    "    \n",
    "    labels = cv2.imread(filenames[i], cv2.IMREAD_UNCHANGED)\n",
    "    \n",
    "    res = np.ones(labels[:, :, 2].shape)*255\n",
    "    res[labels[:, :, 2] == 0] = 255\n",
    "    res[labels[:, :, 2] == 1] = 10\n",
    "    res[labels[:, :, 2] == 2] = 2\n",
    "    res[labels[:, :, 2] == 3] = 0\n",
    "    res[labels[:, :, 2] == 4] = 1\n",
    "    res[labels[:, :, 2] == 5] = 4\n",
    "    res[labels[:, :, 2] == 6] = 8\n",
    "    res[labels[:, :, 2] == 7] = 5\n",
    "    res[labels[:, :, 2] == 8] = 13\n",
    "    res[labels[:, :, 2] == 9] = 7\n",
    "    res[labels[:, :, 2] == 10] = 11\n",
    "    res[labels[:, :, 2] == 11] = 18\n",
    "    res[labels[:, :, 2] == 12] = 17\n",
    "    res[labels[:, :, 2] == 13] = 255\n",
    "    res[labels[:, :, 2] == 14] = 255\n",
    "    res[labels[:, :, 2] == 15] = 6\n",
    "    res[labels[:, :, 2] == 16] = 9\n",
    "    res[labels[:, :, 2] == 17] = 12\n",
    "    res[labels[:, :, 2] == 18] = 14\n",
    "    res[labels[:, :, 2] == 19] = 15\n",
    "    res[labels[:, :, 2] == 20] = 16\n",
    "    res[labels[:, :, 2] == 21] = 3\n",
    "    res[labels[:, :, 2] == 22] = 0\n",
    "    \n",
    "    seg_2x = cv2.resize(res, downsample_size_2x, interpolation=cv2.INTER_NEAREST)\n",
    "    seg_4x = cv2.resize(res, downsample_size_4x, interpolation=cv2.INTER_NEAREST)\n",
    "\n",
    "    cv2.imwrite('/media/hpc4_Raid/dsungatullina/transfer-to-zhores/SYNTHIA/RAND_CITYSCAPES/GT_1024x608/LABELS/val/' + name, seg_2x)\n",
    "    cv2.imwrite('/media/hpc4_Raid/dsungatullina/transfer-to-zhores/SYNTHIA/RAND_CITYSCAPES/GT_512x304/LABELS/val/' + name, seg_4x)"
   ]
  },
  {
   "cell_type": "markdown",
   "metadata": {},
   "source": [
    "#### COLOR"
   ]
  },
  {
   "cell_type": "code",
   "execution_count": null,
   "metadata": {
    "collapsed": true
   },
   "outputs": [],
   "source": []
  },
  {
   "cell_type": "code",
   "execution_count": null,
   "metadata": {
    "collapsed": true
   },
   "outputs": [],
   "source": []
  },
  {
   "cell_type": "markdown",
   "metadata": {},
   "source": [
    "## Add filenames to *.txt"
   ]
  },
  {
   "cell_type": "code",
   "execution_count": 127,
   "metadata": {
    "collapsed": true
   },
   "outputs": [],
   "source": [
    "file1 = open('/media/hpc4_Raid/dsungatullina/transfer-to-zhores/lists_512/synthia_labels_val.txt', 'w')\n",
    "filenames = glob.glob('/media/hpc4_Raid/dsungatullina/transfer-to-zhores/SYNTHIA/RAND_CITYSCAPES/GT_512x304/LABELS/val/*.tif')"
   ]
  },
  {
   "cell_type": "code",
   "execution_count": 128,
   "metadata": {
    "collapsed": true
   },
   "outputs": [],
   "source": [
    "#file1 = open('/media/hpc4_Raid/dsungatullina/transfer-to-zhores/lists_512/synthia_depth_test.txt', 'w')\n",
    "#filenames = glob.glob('/media/hpc4_Raid/dsungatullina/transfer-to-zhores/SYNTHIA/RAND_CITYSCAPES/Depth_1024x608/test/*.tif')"
   ]
  },
  {
   "cell_type": "code",
   "execution_count": 129,
   "metadata": {
    "collapsed": false
   },
   "outputs": [
    {
     "data": {
      "text/plain": [
       "400"
      ]
     },
     "execution_count": 129,
     "metadata": {},
     "output_type": "execute_result"
    }
   ],
   "source": [
    "len(filenames)"
   ]
  },
  {
   "cell_type": "code",
   "execution_count": 130,
   "metadata": {
    "collapsed": false
   },
   "outputs": [],
   "source": [
    "filenames.sort()"
   ]
  },
  {
   "cell_type": "code",
   "execution_count": 131,
   "metadata": {
    "collapsed": false
   },
   "outputs": [],
   "source": [
    "for filename in filenames:\n",
    "    file1.write(filename + '\\n')"
   ]
  },
  {
   "cell_type": "code",
   "execution_count": 132,
   "metadata": {
    "collapsed": true
   },
   "outputs": [],
   "source": [
    "file1.close()"
   ]
  },
  {
   "cell_type": "code",
   "execution_count": null,
   "metadata": {
    "collapsed": true
   },
   "outputs": [],
   "source": []
  },
  {
   "cell_type": "code",
   "execution_count": 146,
   "metadata": {
    "collapsed": true
   },
   "outputs": [],
   "source": [
    "# file1 = open('/media/hpc4_Raid/dsungatullina/transfer-to-zhores/lists_512/synthia_labels_test.txt', 'w')\n",
    "# filenames = glob.glob('/media/hpc4_Raid/dsungatullina/transfer-to-zhores/SYNTHIA/RAND_CITYSCAPES/GT_512x304/LABELS/test/*.png')"
   ]
  },
  {
   "cell_type": "code",
   "execution_count": 161,
   "metadata": {
    "collapsed": true
   },
   "outputs": [],
   "source": [
    "file1 = open('/media/hpc4_Raid/dsungatullina/transfer-to-zhores/lists_1024/synthia_labels_val.txt', 'w')\n",
    "filenames = glob.glob('/media/hpc4_Raid/dsungatullina/transfer-to-zhores/SYNTHIA/RAND_CITYSCAPES/GT_1024x608/LABELS/val/*.png')"
   ]
  },
  {
   "cell_type": "code",
   "execution_count": 162,
   "metadata": {
    "collapsed": false
   },
   "outputs": [
    {
     "data": {
      "text/plain": [
       "400"
      ]
     },
     "execution_count": 162,
     "metadata": {},
     "output_type": "execute_result"
    }
   ],
   "source": [
    "len(filenames)"
   ]
  },
  {
   "cell_type": "code",
   "execution_count": 163,
   "metadata": {
    "collapsed": true
   },
   "outputs": [],
   "source": [
    "filenames.sort()"
   ]
  },
  {
   "cell_type": "code",
   "execution_count": 164,
   "metadata": {
    "collapsed": true
   },
   "outputs": [],
   "source": [
    "for filename in filenames:\n",
    "    file1.write(filename + '\\n')"
   ]
  },
  {
   "cell_type": "code",
   "execution_count": 165,
   "metadata": {
    "collapsed": true
   },
   "outputs": [],
   "source": [
    "file1.close()"
   ]
  },
  {
   "cell_type": "code",
   "execution_count": null,
   "metadata": {
    "collapsed": true
   },
   "outputs": [],
   "source": []
  },
  {
   "cell_type": "code",
   "execution_count": 283,
   "metadata": {
    "collapsed": true
   },
   "outputs": [],
   "source": [
    "file2 = open('/media/hpc4_Raid/dsungatullina/transfer-to-zhores/lists_512/synthia_labels_val.txt', 'r')"
   ]
  },
  {
   "cell_type": "code",
   "execution_count": 284,
   "metadata": {
    "collapsed": true
   },
   "outputs": [],
   "source": [
    "file1 = open('/media/hpc4_Raid/dsungatullina/transfer-to-zhores/_lists_512/synthia_labels_val.txt', 'w')"
   ]
  },
  {
   "cell_type": "code",
   "execution_count": 285,
   "metadata": {
    "collapsed": true
   },
   "outputs": [],
   "source": [
    "for line in file2:\n",
    "    file1.write('/' + line.split('/')[1] + '/hpc-4_Raid/' + line[17:])"
   ]
  },
  {
   "cell_type": "code",
   "execution_count": 286,
   "metadata": {
    "collapsed": true
   },
   "outputs": [],
   "source": [
    "file2.close()"
   ]
  },
  {
   "cell_type": "code",
   "execution_count": 287,
   "metadata": {
    "collapsed": true
   },
   "outputs": [],
   "source": [
    "file1.close()"
   ]
  },
  {
   "cell_type": "code",
   "execution_count": null,
   "metadata": {
    "collapsed": true
   },
   "outputs": [],
   "source": []
  },
  {
   "cell_type": "code",
   "execution_count": null,
   "metadata": {
    "collapsed": true
   },
   "outputs": [],
   "source": []
  },
  {
   "cell_type": "code",
   "execution_count": 288,
   "metadata": {
    "collapsed": false
   },
   "outputs": [
    {
     "name": "stdout",
     "output_type": "stream",
     "text": [
      "2975\n"
     ]
    }
   ],
   "source": [
    "filenames = glob.glob('/media/hpc4_Raid/data/Cityscapes/RAND_CITYSCAPES/RGB/train/*.png')\n",
    "filenames.sort()\n",
    "print(len(filenames))"
   ]
  },
  {
   "cell_type": "code",
   "execution_count": 289,
   "metadata": {
    "collapsed": true
   },
   "outputs": [],
   "source": [
    "down_size = (1024, 512)"
   ]
  },
  {
   "cell_type": "code",
   "execution_count": 290,
   "metadata": {
    "collapsed": true
   },
   "outputs": [],
   "source": [
    "for i in range(len(filenames)):\n",
    "    name = filenames[i].split('/')[-1]\n",
    "    \n",
    "    img = Image.open(filenames[i])\n",
    "    \n",
    "    new_img = img.resize(down_size, resample=Image.LANCZOS)\n",
    "    new_img.save('/media/hpc4_Raid/data/Cityscapes/RAND_CITYSCAPES/RGB_1024x512/train/' + name, \"PNG\")"
   ]
  },
  {
   "cell_type": "code",
   "execution_count": null,
   "metadata": {
    "collapsed": true
   },
   "outputs": [],
   "source": []
  },
  {
   "cell_type": "code",
   "execution_count": 291,
   "metadata": {
    "collapsed": false
   },
   "outputs": [
    {
     "name": "stdout",
     "output_type": "stream",
     "text": [
      "1525\n"
     ]
    }
   ],
   "source": [
    "filenames = glob.glob('/media/hpc4_Raid/data/Cityscapes/RAND_CITYSCAPES/RGB/test/*.png')\n",
    "filenames.sort()\n",
    "print(len(filenames))\n",
    "\n",
    "for i in range(len(filenames)):\n",
    "    name = filenames[i].split('/')[-1]\n",
    "    \n",
    "    img = Image.open(filenames[i])\n",
    "    \n",
    "    new_img = img.resize(down_size, resample=Image.LANCZOS)\n",
    "    new_img.save('/media/hpc4_Raid/data/Cityscapes/RAND_CITYSCAPES/RGB_1024x512/test/' + name, \"PNG\")"
   ]
  },
  {
   "cell_type": "code",
   "execution_count": null,
   "metadata": {
    "collapsed": true
   },
   "outputs": [],
   "source": []
  },
  {
   "cell_type": "code",
   "execution_count": 292,
   "metadata": {
    "collapsed": false
   },
   "outputs": [
    {
     "name": "stdout",
     "output_type": "stream",
     "text": [
      "500\n"
     ]
    }
   ],
   "source": [
    "filenames = glob.glob('/media/hpc4_Raid/data/Cityscapes/RAND_CITYSCAPES/RGB/val/*.png')\n",
    "filenames.sort()\n",
    "print(len(filenames))\n",
    "\n",
    "for i in range(len(filenames)):\n",
    "    name = filenames[i].split('/')[-1]\n",
    "    \n",
    "    img = Image.open(filenames[i])\n",
    "    \n",
    "    new_img = img.resize(down_size, resample=Image.LANCZOS)\n",
    "    new_img.save('/media/hpc4_Raid/data/Cityscapes/RAND_CITYSCAPES/RGB_1024x512/val/' + name, \"PNG\")"
   ]
  },
  {
   "cell_type": "code",
   "execution_count": null,
   "metadata": {
    "collapsed": true
   },
   "outputs": [],
   "source": []
  },
  {
   "cell_type": "code",
   "execution_count": null,
   "metadata": {
    "collapsed": true
   },
   "outputs": [],
   "source": []
  }
 ],
 "metadata": {
  "kernelspec": {
   "display_name": "Python 2",
   "language": "python",
   "name": "python2"
  },
  "language_info": {
   "codemirror_mode": {
    "name": "ipython",
    "version": 2
   },
   "file_extension": ".py",
   "mimetype": "text/x-python",
   "name": "python",
   "nbconvert_exporter": "python",
   "pygments_lexer": "ipython2",
   "version": "2.7.6"
  }
 },
 "nbformat": 4,
 "nbformat_minor": 1
}
